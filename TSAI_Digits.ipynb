{
  "nbformat": 4,
  "nbformat_minor": 0,
  "metadata": {
    "colab": {
      "name": "TSAI_Digits",
      "provenance": [],
      "collapsed_sections": []
    },
    "kernelspec": {
      "display_name": "Python 3",
      "name": "python3"
    },
    "language_info": {
      "name": "python"
    },
    "accelerator": "GPU"
  },
  "cells": [
    {
      "cell_type": "markdown",
      "metadata": {
        "id": "QmNChCNPxPvg"
      },
      "source": [
        "# Classification Sytem with Addition Operation Capability "
      ]
    },
    {
      "cell_type": "markdown",
      "metadata": {
        "id": "zuHdfGD_xqZN"
      },
      "source": [
        "## 1.1 Problem Statement \n",
        "\n",
        "### Creating a Neural Network which takes in 2 Inputs\n",
        "\n",
        "    A) An Image from the MNIST dataset \n",
        "    B) A Random number between 0 and 9\n",
        "\n",
        "\n",
        "![image](https://canvas.instructure.com/courses/2734471/files/155148058/preview)\n",
        "\n",
        "### Provides two Outputs \n",
        "\n",
        "    A) The Number that was represented by the MNIST image\n",
        "    B) The Sum of the random number and the number represented by the input  image to the network\n",
        "\n",
        "\n"
      ]
    },
    {
      "cell_type": "code",
      "metadata": {
        "colab": {
          "base_uri": "https://localhost:8080/"
        },
        "id": "RGIsTuJCxQHA",
        "outputId": "621b8861-21be-4f0b-99b0-05c96ed2a44d"
      },
      "source": [
        "!pip install torch \n",
        "!pip install torchsummary"
      ],
      "execution_count": 85,
      "outputs": [
        {
          "output_type": "stream",
          "name": "stdout",
          "text": [
            "Requirement already satisfied: torch in /usr/local/lib/python3.7/dist-packages (1.9.0+cu111)\n",
            "Requirement already satisfied: typing-extensions in /usr/local/lib/python3.7/dist-packages (from torch) (3.7.4.3)\n",
            "Requirement already satisfied: torchsummary in /usr/local/lib/python3.7/dist-packages (1.5.1)\n"
          ]
        }
      ]
    },
    {
      "cell_type": "code",
      "metadata": {
        "id": "U9ybWepnnBUQ"
      },
      "source": [
        "import torch \n",
        "import torchvision\n",
        "from torch.utils.data import Dataset\n",
        "from torchvision import datasets, transforms\n",
        "from torchsummary import summary"
      ],
      "execution_count": 86,
      "outputs": []
    },
    {
      "cell_type": "code",
      "metadata": {
        "id": "1LnYCpH9PSvz"
      },
      "source": [
        "from torchsummary import summary\n",
        "use_cuda = torch.cuda.is_available()\n",
        "device = torch.device(\"cuda\" if use_cuda else \"cpu\")"
      ],
      "execution_count": 87,
      "outputs": []
    },
    {
      "cell_type": "code",
      "metadata": {
        "id": "u5Z0bx3ApS3p"
      },
      "source": [
        "## Loading the EMNSIT Training Data from the pytorch repository  \n",
        "training_data = torchvision.datasets.MNIST(root = './data',train= True ,\n",
        "                                        download=True, transform=transforms.Compose([\n",
        "                                        transforms.ToTensor(),transforms.Normalize((0.1307,), (0.3081,))\n",
        "                                        ])\n",
        "                                       )\n",
        "                                       "
      ],
      "execution_count": 88,
      "outputs": []
    },
    {
      "cell_type": "markdown",
      "metadata": {
        "id": "X_MnLC14xM1q"
      },
      "source": [
        "## 1.2 Visualizing the Data "
      ]
    },
    {
      "cell_type": "code",
      "metadata": {
        "colab": {
          "base_uri": "https://localhost:8080/"
        },
        "id": "noYA78QB5xq2",
        "outputId": "d71a0b8c-71f4-476b-f7af-8318f2812fc5"
      },
      "source": [
        "import numpy as np\n",
        "import matplotlib.pyplot as plt\n",
        "\n",
        "torch.set_printoptions(linewidth=120)\n",
        "\n",
        "print(f'The Number of Records in the Train Data is {len(training_data)}')"
      ],
      "execution_count": 89,
      "outputs": [
        {
          "output_type": "stream",
          "name": "stdout",
          "text": [
            "The Number of Records in the Train Data is 60000\n"
          ]
        }
      ]
    },
    {
      "cell_type": "code",
      "metadata": {
        "colab": {
          "base_uri": "https://localhost:8080/"
        },
        "id": "vDd9_OyadykA",
        "outputId": "b08a49f0-c7c6-4f0a-8082-7728c1416e2a"
      },
      "source": [
        "x_images,y_img_labels = training_data.data,training_data.targets\n",
        "print(x_images.shape,y_img_labels.shape)"
      ],
      "execution_count": 90,
      "outputs": [
        {
          "output_type": "stream",
          "name": "stdout",
          "text": [
            "torch.Size([60000, 28, 28]) torch.Size([60000])\n"
          ]
        }
      ]
    },
    {
      "cell_type": "code",
      "metadata": {
        "colab": {
          "base_uri": "https://localhost:8080/"
        },
        "id": "XqHfBMv2bxIx",
        "outputId": "e72e29cc-959b-4718-c28b-dcb57a6dbfc5"
      },
      "source": [
        "# The Class Imabalance is very Minimal\n",
        "training_data.targets.bincount()"
      ],
      "execution_count": 91,
      "outputs": [
        {
          "output_type": "execute_result",
          "data": {
            "text/plain": [
              "tensor([5923, 6742, 5958, 6131, 5842, 5421, 5918, 6265, 5851, 5949])"
            ]
          },
          "metadata": {},
          "execution_count": 91
        }
      ]
    },
    {
      "cell_type": "code",
      "metadata": {
        "colab": {
          "base_uri": "https://localhost:8080/"
        },
        "id": "eWB4Ia9Lb1pv",
        "outputId": "063089f5-672b-4948-a1ce-06126358f6db"
      },
      "source": [
        "## Lets Look into the Image , we a 28*28 image which is greyscale and having a corresponding label 5\n",
        "sample = next(iter(training_data))\n",
        "sample"
      ],
      "execution_count": 93,
      "outputs": [
        {
          "output_type": "execute_result",
          "data": {
            "text/plain": [
              "(tensor([[[-0.4242, -0.4242, -0.4242, -0.4242, -0.4242, -0.4242, -0.4242, -0.4242, -0.4242, -0.4242, -0.4242, -0.4242,\n",
              "           -0.4242, -0.4242, -0.4242, -0.4242, -0.4242, -0.4242, -0.4242, -0.4242, -0.4242, -0.4242, -0.4242, -0.4242,\n",
              "           -0.4242, -0.4242, -0.4242, -0.4242],\n",
              "          [-0.4242, -0.4242, -0.4242, -0.4242, -0.4242, -0.4242, -0.4242, -0.4242, -0.4242, -0.4242, -0.4242, -0.4242,\n",
              "           -0.4242, -0.4242, -0.4242, -0.4242, -0.4242, -0.4242, -0.4242, -0.4242, -0.4242, -0.4242, -0.4242, -0.4242,\n",
              "           -0.4242, -0.4242, -0.4242, -0.4242],\n",
              "          [-0.4242, -0.4242, -0.4242, -0.4242, -0.4242, -0.4242, -0.4242, -0.4242, -0.4242, -0.4242, -0.4242, -0.4242,\n",
              "           -0.4242, -0.4242, -0.4242, -0.4242, -0.4242, -0.4242, -0.4242, -0.4242, -0.4242, -0.4242, -0.4242, -0.4242,\n",
              "           -0.4242, -0.4242, -0.4242, -0.4242],\n",
              "          [-0.4242, -0.4242, -0.4242, -0.4242, -0.4242, -0.4242, -0.4242, -0.4242, -0.4242, -0.4242, -0.4242, -0.4242,\n",
              "           -0.4242, -0.4242, -0.4242, -0.4242, -0.4242, -0.4242, -0.4242, -0.4242, -0.4242, -0.4242, -0.4242, -0.4242,\n",
              "           -0.4242, -0.4242, -0.4242, -0.4242],\n",
              "          [-0.4242, -0.4242, -0.4242, -0.4242, -0.4242, -0.4242, -0.4242, -0.4242, -0.4242, -0.4242, -0.4242, -0.4242,\n",
              "           -0.4242, -0.4242, -0.4242, -0.4242, -0.4242, -0.4242, -0.4242, -0.4242, -0.4242, -0.4242, -0.4242, -0.4242,\n",
              "           -0.4242, -0.4242, -0.4242, -0.4242],\n",
              "          [-0.4242, -0.4242, -0.4242, -0.4242, -0.4242, -0.4242, -0.4242, -0.4242, -0.4242, -0.4242, -0.4242, -0.4242,\n",
              "           -0.3860, -0.1951, -0.1951, -0.1951,  1.1795,  1.3068,  1.8032, -0.0933,  1.6887,  2.8215,  2.7197,  1.1923,\n",
              "           -0.4242, -0.4242, -0.4242, -0.4242],\n",
              "          [-0.4242, -0.4242, -0.4242, -0.4242, -0.4242, -0.4242, -0.4242, -0.4242, -0.0424,  0.0340,  0.7722,  1.5359,\n",
              "            1.7396,  2.7960,  2.7960,  2.7960,  2.7960,  2.7960,  2.4396,  1.7650,  2.7960,  2.6560,  2.0578,  0.3904,\n",
              "           -0.4242, -0.4242, -0.4242, -0.4242],\n",
              "          [-0.4242, -0.4242, -0.4242, -0.4242, -0.4242, -0.4242, -0.4242,  0.1995,  2.6051,  2.7960,  2.7960,  2.7960,\n",
              "            2.7960,  2.7960,  2.7960,  2.7960,  2.7960,  2.7706,  0.7595,  0.6195,  0.6195,  0.2886,  0.0722, -0.4242,\n",
              "           -0.4242, -0.4242, -0.4242, -0.4242],\n",
              "          [-0.4242, -0.4242, -0.4242, -0.4242, -0.4242, -0.4242, -0.4242, -0.1951,  2.3633,  2.7960,  2.7960,  2.7960,\n",
              "            2.7960,  2.7960,  2.0960,  1.8923,  2.7197,  2.6433, -0.4242, -0.4242, -0.4242, -0.4242, -0.4242, -0.4242,\n",
              "           -0.4242, -0.4242, -0.4242, -0.4242],\n",
              "          [-0.4242, -0.4242, -0.4242, -0.4242, -0.4242, -0.4242, -0.4242, -0.4242,  0.5940,  1.5614,  0.9377,  2.7960,\n",
              "            2.7960,  2.1851, -0.2842, -0.4242,  0.1231,  1.5359, -0.4242, -0.4242, -0.4242, -0.4242, -0.4242, -0.4242,\n",
              "           -0.4242, -0.4242, -0.4242, -0.4242],\n",
              "          [-0.4242, -0.4242, -0.4242, -0.4242, -0.4242, -0.4242, -0.4242, -0.4242, -0.4242, -0.2460, -0.4115,  1.5359,\n",
              "            2.7960,  0.7213, -0.4242, -0.4242, -0.4242, -0.4242, -0.4242, -0.4242, -0.4242, -0.4242, -0.4242, -0.4242,\n",
              "           -0.4242, -0.4242, -0.4242, -0.4242],\n",
              "          [-0.4242, -0.4242, -0.4242, -0.4242, -0.4242, -0.4242, -0.4242, -0.4242, -0.4242, -0.4242, -0.4242,  1.3450,\n",
              "            2.7960,  1.9942, -0.3988, -0.4242, -0.4242, -0.4242, -0.4242, -0.4242, -0.4242, -0.4242, -0.4242, -0.4242,\n",
              "           -0.4242, -0.4242, -0.4242, -0.4242],\n",
              "          [-0.4242, -0.4242, -0.4242, -0.4242, -0.4242, -0.4242, -0.4242, -0.4242, -0.4242, -0.4242, -0.4242, -0.2842,\n",
              "            1.9942,  2.7960,  0.4668, -0.4242, -0.4242, -0.4242, -0.4242, -0.4242, -0.4242, -0.4242, -0.4242, -0.4242,\n",
              "           -0.4242, -0.4242, -0.4242, -0.4242],\n",
              "          [-0.4242, -0.4242, -0.4242, -0.4242, -0.4242, -0.4242, -0.4242, -0.4242, -0.4242, -0.4242, -0.4242, -0.4242,\n",
              "            0.0213,  2.6433,  2.4396,  1.6123,  0.9504, -0.4115, -0.4242, -0.4242, -0.4242, -0.4242, -0.4242, -0.4242,\n",
              "           -0.4242, -0.4242, -0.4242, -0.4242],\n",
              "          [-0.4242, -0.4242, -0.4242, -0.4242, -0.4242, -0.4242, -0.4242, -0.4242, -0.4242, -0.4242, -0.4242, -0.4242,\n",
              "           -0.4242,  0.6068,  2.6306,  2.7960,  2.7960,  1.0904, -0.1060, -0.4242, -0.4242, -0.4242, -0.4242, -0.4242,\n",
              "           -0.4242, -0.4242, -0.4242, -0.4242],\n",
              "          [-0.4242, -0.4242, -0.4242, -0.4242, -0.4242, -0.4242, -0.4242, -0.4242, -0.4242, -0.4242, -0.4242, -0.4242,\n",
              "           -0.4242, -0.4242,  0.1486,  1.9432,  2.7960,  2.7960,  1.4850, -0.0806, -0.4242, -0.4242, -0.4242, -0.4242,\n",
              "           -0.4242, -0.4242, -0.4242, -0.4242],\n",
              "          [-0.4242, -0.4242, -0.4242, -0.4242, -0.4242, -0.4242, -0.4242, -0.4242, -0.4242, -0.4242, -0.4242, -0.4242,\n",
              "           -0.4242, -0.4242, -0.4242, -0.2206,  0.7595,  2.7833,  2.7960,  1.9560, -0.4242, -0.4242, -0.4242, -0.4242,\n",
              "           -0.4242, -0.4242, -0.4242, -0.4242],\n",
              "          [-0.4242, -0.4242, -0.4242, -0.4242, -0.4242, -0.4242, -0.4242, -0.4242, -0.4242, -0.4242, -0.4242, -0.4242,\n",
              "           -0.4242, -0.4242, -0.4242, -0.4242, -0.4242,  2.7451,  2.7960,  2.7451,  0.3904, -0.4242, -0.4242, -0.4242,\n",
              "           -0.4242, -0.4242, -0.4242, -0.4242],\n",
              "          [-0.4242, -0.4242, -0.4242, -0.4242, -0.4242, -0.4242, -0.4242, -0.4242, -0.4242, -0.4242, -0.4242, -0.4242,\n",
              "           -0.4242, -0.4242,  0.1613,  1.2305,  1.9051,  2.7960,  2.7960,  2.2105, -0.3988, -0.4242, -0.4242, -0.4242,\n",
              "           -0.4242, -0.4242, -0.4242, -0.4242],\n",
              "          [-0.4242, -0.4242, -0.4242, -0.4242, -0.4242, -0.4242, -0.4242, -0.4242, -0.4242, -0.4242, -0.4242, -0.4242,\n",
              "            0.0722,  1.4596,  2.4906,  2.7960,  2.7960,  2.7960,  2.7578,  1.8923, -0.4242, -0.4242, -0.4242, -0.4242,\n",
              "           -0.4242, -0.4242, -0.4242, -0.4242],\n",
              "          [-0.4242, -0.4242, -0.4242, -0.4242, -0.4242, -0.4242, -0.4242, -0.4242, -0.4242, -0.4242, -0.1187,  1.0268,\n",
              "            2.3887,  2.7960,  2.7960,  2.7960,  2.7960,  2.1342,  0.5686, -0.4242, -0.4242, -0.4242, -0.4242, -0.4242,\n",
              "           -0.4242, -0.4242, -0.4242, -0.4242],\n",
              "          [-0.4242, -0.4242, -0.4242, -0.4242, -0.4242, -0.4242, -0.4242, -0.4242, -0.1315,  0.4159,  2.2869,  2.7960,\n",
              "            2.7960,  2.7960,  2.7960,  2.0960,  0.6068, -0.3988, -0.4242, -0.4242, -0.4242, -0.4242, -0.4242, -0.4242,\n",
              "           -0.4242, -0.4242, -0.4242, -0.4242],\n",
              "          [-0.4242, -0.4242, -0.4242, -0.4242, -0.4242, -0.4242, -0.1951,  1.7523,  2.3633,  2.7960,  2.7960,  2.7960,\n",
              "            2.7960,  2.0578,  0.5940, -0.3097, -0.4242, -0.4242, -0.4242, -0.4242, -0.4242, -0.4242, -0.4242, -0.4242,\n",
              "           -0.4242, -0.4242, -0.4242, -0.4242],\n",
              "          [-0.4242, -0.4242, -0.4242, -0.4242,  0.2758,  1.7650,  2.4524,  2.7960,  2.7960,  2.7960,  2.7960,  2.6815,\n",
              "            1.2686, -0.2842, -0.4242, -0.4242, -0.4242, -0.4242, -0.4242, -0.4242, -0.4242, -0.4242, -0.4242, -0.4242,\n",
              "           -0.4242, -0.4242, -0.4242, -0.4242],\n",
              "          [-0.4242, -0.4242, -0.4242, -0.4242,  1.3068,  2.7960,  2.7960,  2.7960,  2.2742,  1.2941,  1.2559, -0.2206,\n",
              "           -0.4242, -0.4242, -0.4242, -0.4242, -0.4242, -0.4242, -0.4242, -0.4242, -0.4242, -0.4242, -0.4242, -0.4242,\n",
              "           -0.4242, -0.4242, -0.4242, -0.4242],\n",
              "          [-0.4242, -0.4242, -0.4242, -0.4242, -0.4242, -0.4242, -0.4242, -0.4242, -0.4242, -0.4242, -0.4242, -0.4242,\n",
              "           -0.4242, -0.4242, -0.4242, -0.4242, -0.4242, -0.4242, -0.4242, -0.4242, -0.4242, -0.4242, -0.4242, -0.4242,\n",
              "           -0.4242, -0.4242, -0.4242, -0.4242],\n",
              "          [-0.4242, -0.4242, -0.4242, -0.4242, -0.4242, -0.4242, -0.4242, -0.4242, -0.4242, -0.4242, -0.4242, -0.4242,\n",
              "           -0.4242, -0.4242, -0.4242, -0.4242, -0.4242, -0.4242, -0.4242, -0.4242, -0.4242, -0.4242, -0.4242, -0.4242,\n",
              "           -0.4242, -0.4242, -0.4242, -0.4242],\n",
              "          [-0.4242, -0.4242, -0.4242, -0.4242, -0.4242, -0.4242, -0.4242, -0.4242, -0.4242, -0.4242, -0.4242, -0.4242,\n",
              "           -0.4242, -0.4242, -0.4242, -0.4242, -0.4242, -0.4242, -0.4242, -0.4242, -0.4242, -0.4242, -0.4242, -0.4242,\n",
              "           -0.4242, -0.4242, -0.4242, -0.4242]]]), 5)"
            ]
          },
          "metadata": {},
          "execution_count": 93
        }
      ]
    },
    {
      "cell_type": "markdown",
      "metadata": {
        "id": "_oMemOQktL93"
      },
      "source": [
        "### Visualizing the Sample Image "
      ]
    },
    {
      "cell_type": "code",
      "metadata": {
        "colab": {
          "base_uri": "https://localhost:8080/",
          "height": 283
        },
        "id": "FWTe8bkSb23b",
        "outputId": "74cb70fe-0630-4eac-ff95-6c2bbac0a4ff"
      },
      "source": [
        "## Visulaizo\n",
        "image, label = sample\n",
        "plt.imshow(image.squeeze(), cmap='gray')\n",
        "print('label:', label)"
      ],
      "execution_count": 94,
      "outputs": [
        {
          "output_type": "stream",
          "name": "stdout",
          "text": [
            "label: 5\n"
          ]
        },
        {
          "output_type": "display_data",
          "data": {
            "image/png": "[encoded data removed]",
            "text/plain": [
              "<Figure size 432x288 with 1 Axes>"
            ]
          },
          "metadata": {
            "needs_background": "light"
          }
        }
      ]
    },
    {
      "cell_type": "markdown",
      "metadata": {
        "id": "n-AFZoTstbpJ"
      },
      "source": [
        "### Creating a Class for Custom Dataset Generation "
      ]
    },
    {
      "cell_type": "code",
      "metadata": {
        "id": "JBW4RswrbU1k"
      },
      "source": [
        "from torch.utils.data import Dataset\n",
        "import random\n",
        "\n",
        "# Dataset is there to be able to interact with DataLoader\n",
        "\n",
        "class ImageNumDataset(Dataset):\n",
        "  def __init__(self,tr_data):\n",
        "\n",
        "    self.img_data = tr_data.data.reshape(-1,1,28,28).divide(255) # Normalizing Incoming input Images \n",
        "    self.y_images = tr_data.targets # Labels for the Images\n",
        "    self.input_labels = [x for x in range(10)] # Creating numbers which are unique and between 0-9\n",
        "    self.input_num = [random.choice(self.input_labels) for i in range(len(self.y_images))] # Create X_2 Data by randomly chosing a number between 0-9 for the len data loaded \n",
        "    self.one_hot_input = torch.nn.functional.one_hot(torch.as_tensor(self.input_num)) # One Hot Encoding the X_2 Feature\n",
        "    self.y_multiples = torch.stack((self.y_images,torch.as_tensor(self.input_num)),dim=1).sum(dim=1) # Creating Y_2 which is a multiple of Y_1[i] and X_2[i]\n",
        "    self.data = [(a,b,c,d) for a,b,c,d in zip(self.img_data,self.y_images,self.one_hot_input,self.y_multiples)]\n",
        "    \n",
        "    for i in range(len(self.y_images)):\n",
        "      self.input_num.append(random.choice(self.input_labels))\n",
        "\n",
        "\n",
        "  def __getitem__(self, index):\n",
        "    return self.data[index]\n",
        "\n",
        "  def __len__(self):\n",
        "    return len(self.data)\n",
        "\n"
      ],
      "execution_count": 96,
      "outputs": []
    },
    {
      "cell_type": "code",
      "metadata": {
        "colab": {
          "base_uri": "https://localhost:8080/"
        },
        "id": "ZhDbmbm8DuVG",
        "outputId": "68e8e704-8305-4406-cf05-f49c1407f86a"
      },
      "source": [
        "all_data = ImageNumDataset(training_data)\n",
        "sample = next(iter(all_data))\n",
        "\n",
        "len(sample)"
      ],
      "execution_count": 97,
      "outputs": [
        {
          "output_type": "execute_result",
          "data": {
            "text/plain": [
              "4"
            ]
          },
          "metadata": {},
          "execution_count": 97
        }
      ]
    },
    {
      "cell_type": "code",
      "metadata": {
        "colab": {
          "base_uri": "https://localhost:8080/"
        },
        "id": "Kjj0LcxZkHLp",
        "outputId": "348ea9ff-a7db-4a1d-e5a2-d322d7fc9d90"
      },
      "source": [
        "a,b,c,d=sample\n",
        "a.shape,b,c.shape,d"
      ],
      "execution_count": 98,
      "outputs": [
        {
          "output_type": "execute_result",
          "data": {
            "text/plain": [
              "(torch.Size([1, 28, 28]), tensor(5), torch.Size([10]), tensor(13))"
            ]
          },
          "metadata": {},
          "execution_count": 98
        }
      ]
    },
    {
      "cell_type": "markdown",
      "metadata": {
        "id": "XOBO14116yzB"
      },
      "source": [
        "### Creating Training Data in Batches"
      ]
    },
    {
      "cell_type": "code",
      "metadata": {
        "colab": {
          "base_uri": "https://localhost:8080/"
        },
        "id": "Qi1XBHe7gDeC",
        "outputId": "b49fc66d-fcde-48c0-c600-b745fadf771a"
      },
      "source": [
        "#DataLoader(dataset, batch_size=1, shuffle=False, sampler=None,\n",
        "  #         batch_sampler=None, num_workers=0, collate_fn=None,\n",
        "   #        pin_memory=False, drop_last=False, timeout=0,\n",
        "    #       worker_init_fn=None, *, prefetch_factor=2,\n",
        "     #      persistent_workers=False)\n",
        "## Splitting the  data into a batches since we will be do a batch training\n",
        "kwargs = {'num_workers': 1, 'pin_memory': True} if use_cuda else {}\n",
        "train_loader = torch.utils.data.DataLoader(all_data, batch_size=10,\n",
        "                                           shuffle=True, **kwargs)\n",
        "\n",
        "print(f'The Number of Batches in the  Data is {len(train_loader)}')"
      ],
      "execution_count": 100,
      "outputs": [
        {
          "output_type": "stream",
          "name": "stdout",
          "text": [
            "The Number of Batches in the  Data is 6000\n"
          ]
        }
      ]
    },
    {
      "cell_type": "code",
      "metadata": {
        "id": "Jn4Fmco4-AsF",
        "colab": {
          "base_uri": "https://localhost:8080/"
        },
        "outputId": "08414ce3-9b66-4a76-fdd7-4698670bea2c"
      },
      "source": [
        "train_batch = next(iter(train_loader))\n",
        "tr_images, tr_labels,tr_num,tr_num_multiples = train_batch\n",
        "tr_images.shape, tr_num.shape"
      ],
      "execution_count": 101,
      "outputs": [
        {
          "output_type": "execute_result",
          "data": {
            "text/plain": [
              "(torch.Size([10, 1, 28, 28]), torch.Size([10, 10]))"
            ]
          },
          "metadata": {},
          "execution_count": 101
        }
      ]
    },
    {
      "cell_type": "markdown",
      "metadata": {
        "id": "qMrWaZSYuj7c"
      },
      "source": [
        "### Visualizing Image in a batch "
      ]
    },
    {
      "cell_type": "code",
      "metadata": {
        "colab": {
          "base_uri": "https://localhost:8080/",
          "height": 157
        },
        "id": "48R6W97wAOLE",
        "outputId": "eecf7302-7023-4725-c9dc-904c00ebfe01"
      },
      "source": [
        "grid = torchvision.utils.make_grid(tr_images, nrow=10)\n",
        "plt.figure(figsize=(15,15))\n",
        "plt.imshow(np.transpose(grid, (1,2,0)))\n",
        "print('labels:', tr_labels)"
      ],
      "execution_count": 102,
      "outputs": [
        {
          "output_type": "stream",
          "name": "stdout",
          "text": [
            "labels: tensor([2, 1, 1, 6, 1, 9, 8, 3, 6, 0])\n"
          ]
        },
        {
          "output_type": "display_data",
          "data": {
            "image/png": "[encoded data removed]",
            "text/plain": [
              "<Figure size 1080x1080 with 1 Axes>"
            ]
          },
          "metadata": {
            "needs_background": "light"
          }
        }
      ]
    },
    {
      "cell_type": "markdown",
      "metadata": {
        "id": "KB3vt2uBAzEO"
      },
      "source": [
        "## 1.3 Neural Network for Handling Images from MNSIT Data "
      ]
    },
    {
      "cell_type": "code",
      "metadata": {
        "id": "qBik_yrOBFD8"
      },
      "source": [
        "import torch.nn as nn\n",
        "import torch.nn.functional as F"
      ],
      "execution_count": 103,
      "outputs": []
    },
    {
      "cell_type": "code",
      "metadata": {
        "id": "-WwVycKHBzcb"
      },
      "source": [
        "## torch.nn.Conv2d(in_channels, out_channels, kernel_size, stride=1, padding=0, \n",
        "#       dilation=1, groups=1, bias=True, padding_mode='zeros', device=None, dtype=None)\n",
        "\n",
        "## torch.nn.Linear(in_features, out_features, bias=True, device=None, dtype=None)\n",
        "\n",
        "## torch.nn.MaxPool2d(kernel_size, stride=None, padding=0, dilation=1, return_indices=False, ceil_mode=False)"
      ],
      "execution_count": 41,
      "outputs": []
    },
    {
      "cell_type": "code",
      "metadata": {
        "id": "iQ-kf9G3A9BC"
      },
      "source": [
        "class Network(nn.Module):\n",
        "  def __init__(self):\n",
        "    super().__init__()\n",
        "    # 28 >26> 6x24x24 > 6x12x12 \n",
        "    self.conv1 = nn.Conv2d(in_channels= 1 , out_channels=6 , kernel_size= 5 )# Given Image is a greyscale image with 1 channel , no of kernel is 6 and its size is 3 X 3\n",
        "    #12>10>8> 12x8x8  > 12x4x4 \n",
        "    self.conv2 = nn.Conv2d(in_channels=6,out_channels=12, kernel_size=5)\n",
        "    \n",
        "    self.fc_1 = nn.Linear(in_features= 12*4*4+10, out_features=120)\n",
        "    self.fc_2 = nn.Linear(in_features= 120, out_features=60)\n",
        "    self.out_1 = nn.Linear(in_features= 60, out_features=10)\n",
        "    self.out_2 = nn.Linear(in_features= 60, out_features=19)\n",
        "\n",
        "  def forward(self, im_t,num_t):\n",
        "    # input layer\n",
        "    x = im_t\n",
        "\n",
        "    # conv1 layer\n",
        "    x = self.conv1(x)\n",
        "    x = F.relu(x)\n",
        "    x = F.max_pool2d(x, kernel_size=2, stride=2) # 28 | 24 | 12\n",
        "\n",
        "    # conv2 layer\n",
        "    x = self.conv2(x)\n",
        "    x = F.relu(x)\n",
        "    x = F.max_pool2d(x, kernel_size=2, stride=2) # 12 | 8 | 4 >> 12x4x4\n",
        "\n",
        "    # reshape\n",
        "    x = x.reshape(-1, 12 * 4 * 4)\n",
        "    x = torch.cat((x,num_t),dim=1) # Combining flattened convoutional Extracted Features with the one hot encoded for the randomly generated number \n",
        "\n",
        "    #print(x.shape)\n",
        "    # fc1 layer\n",
        "    x = self.fc_1(x)\n",
        "    x = F.relu(x)\n",
        "\n",
        "    # fc2 layer\n",
        "    x = self.fc_2(x)\n",
        "    x = F.relu(x)\n",
        "\n",
        "    # output layer\n",
        "    x_1 = self.out_1(x) # Ouput for image data \n",
        "    x_2 = self.out_2(x) # Output for the multplication of the label with label randomly generated number \n",
        "    # x = F.softmax(x, dim=1)\n",
        "    return x_1, x_2\n",
        "\n",
        "    "
      ],
      "execution_count": 104,
      "outputs": []
    },
    {
      "cell_type": "code",
      "metadata": {
        "id": "bGDfgCmJvJwc"
      },
      "source": [
        ""
      ],
      "execution_count": null,
      "outputs": []
    },
    {
      "cell_type": "markdown",
      "metadata": {
        "id": "Cc-9-jb5vKAJ"
      },
      "source": [
        "### GPU Training "
      ]
    },
    {
      "cell_type": "code",
      "metadata": {
        "colab": {
          "base_uri": "https://localhost:8080/"
        },
        "id": "ItooxhxAGEbB",
        "outputId": "178424c8-94ab-440e-d552-61c6ca41b52c"
      },
      "source": [
        "network = Network().to(device)\n",
        "print(network)"
      ],
      "execution_count": 106,
      "outputs": [
        {
          "output_type": "stream",
          "name": "stdout",
          "text": [
            "Network(\n",
            "  (conv1): Conv2d(1, 6, kernel_size=(5, 5), stride=(1, 1))\n",
            "  (conv2): Conv2d(6, 12, kernel_size=(5, 5), stride=(1, 1))\n",
            "  (fc_1): Linear(in_features=202, out_features=120, bias=True)\n",
            "  (fc_2): Linear(in_features=120, out_features=60, bias=True)\n",
            "  (out_1): Linear(in_features=60, out_features=10, bias=True)\n",
            "  (out_2): Linear(in_features=60, out_features=19, bias=True)\n",
            ")\n"
          ]
        }
      ]
    },
    {
      "cell_type": "code",
      "metadata": {
        "colab": {
          "base_uri": "https://localhost:8080/"
        },
        "id": "fZtozUIdGGkp",
        "outputId": "ebcf0f17-8986-402c-b174-b47650bd8e43"
      },
      "source": [
        "for name , params in network.named_parameters():\n",
        "  print(name,'\\t\\t',params.shape)"
      ],
      "execution_count": 107,
      "outputs": [
        {
          "output_type": "stream",
          "name": "stdout",
          "text": [
            "conv1.weight \t\t torch.Size([6, 1, 5, 5])\n",
            "conv1.bias \t\t torch.Size([6])\n",
            "conv2.weight \t\t torch.Size([12, 6, 5, 5])\n",
            "conv2.bias \t\t torch.Size([12])\n",
            "fc_1.weight \t\t torch.Size([120, 202])\n",
            "fc_1.bias \t\t torch.Size([120])\n",
            "fc_2.weight \t\t torch.Size([60, 120])\n",
            "fc_2.bias \t\t torch.Size([60])\n",
            "out_1.weight \t\t torch.Size([10, 60])\n",
            "out_1.bias \t\t torch.Size([10])\n",
            "out_2.weight \t\t torch.Size([19, 60])\n",
            "out_2.bias \t\t torch.Size([19])\n"
          ]
        }
      ]
    },
    {
      "cell_type": "code",
      "metadata": {
        "id": "Y0dhA9gKJ6xZ"
      },
      "source": [
        "## Evaluating Function \n",
        "def get_num_correct(preds, labels):\n",
        "  return preds.argmax(dim=1).eq(labels).sum().item()"
      ],
      "execution_count": 109,
      "outputs": []
    },
    {
      "cell_type": "code",
      "metadata": {
        "id": "e6wyr8OlMe1t",
        "colab": {
          "base_uri": "https://localhost:8080/"
        },
        "outputId": "eb2a4ca3-6110-4ab2-c552-626ed270a517"
      },
      "source": [
        "import torch.optim as optim\n",
        "optimizer = optim.Adam(network.parameters(), lr=0.01) \n",
        "\n",
        "for epoch in range(10):\n",
        "\n",
        "    total_loss = 0\n",
        "    t_loss_1 = 0 \n",
        "    t_loss_2 = 0\n",
        "    total_correct_1 = 0\n",
        "    total_correct_2 = 0\n",
        "\n",
        "    for batch in train_loader: # Get Batch\n",
        "        images, labels, num_input, num_mults = batch \n",
        "        num_input, num_mults = num_input.to(device), num_mults.to(device) # Loading data to the GPU\n",
        "        images, labels = images.to(device), labels.to(device) # Loading data to the GPU\n",
        "\n",
        "\n",
        "        preds_1,preds_2 = network(images,num_input) # Pass Batches of data to obtain prediction \n",
        "        loss_1 = F.cross_entropy(preds_1, labels) # Calculate Loss_1\n",
        "        loss_2 = F.cross_entropy(preds_2, num_mults) # Calculate Loss_2\n",
        "        total_loss_1_2 = loss_1 + loss_2 # Total Loss\n",
        "\n",
        "        optimizer.zero_grad() # Set gradinent to zero for every backpropagation \n",
        "        total_loss_1_2.backward() # Calculate Gradients\n",
        "        optimizer.step() # Update Weights\n",
        "\n",
        "        t_loss_1 += loss_1.item() # Loss for the image Data \n",
        "        t_loss_2 += loss_2.item() # Loss for the mulplication output \n",
        "\n",
        "        total_loss += total_loss_1_2.item()\n",
        "        total_correct_1 += get_num_correct(preds_1, labels)\n",
        "        total_correct_2 += get_num_correct(preds_2, num_mults)\n",
        "\n",
        "    print(\n",
        "        \"epoch\", epoch, \n",
        "        \"total_correct_mnsit:\", total_correct_1, \n",
        "        \"total_correct_mul:\", total_correct_2, \n",
        "        \"image_loss:\", t_loss_1,\n",
        "        \"mul_loss:\", t_loss_2,\n",
        "        \"loss:\", total_loss\n",
        "    )"
      ],
      "execution_count": 110,
      "outputs": [
        {
          "output_type": "stream",
          "name": "stdout",
          "text": [
            "epoch 0 total_correct_mnsit: 53797 total_correct_mul: 47339 image_loss: 2185.8504115049727 mul_loss: 4139.001356271736 loss: 6324.851769627188\n",
            "epoch 1 total_correct_mnsit: 55350 total_correct_mul: 54215 image_loss: 1767.8374100955953 mul_loss: 2273.5602654250397 loss: 4041.397670752718\n",
            "epoch 2 total_correct_mnsit: 55542 total_correct_mul: 54515 image_loss: 1756.7808225607914 mul_loss: 2247.3188638893607 loss: 4004.0996855513076\n",
            "epoch 3 total_correct_mnsit: 55419 total_correct_mul: 54563 image_loss: 1744.9126572008536 mul_loss: 2220.3282453607244 loss: 3965.2409016861347\n",
            "epoch 4 total_correct_mnsit: 55520 total_correct_mul: 54723 image_loss: 1738.0924868581424 mul_loss: 2169.6213690340664 loss: 3907.7138566146605\n",
            "epoch 5 total_correct_mnsit: 55734 total_correct_mul: 54924 image_loss: 1685.4733474981213 mul_loss: 2104.6122934794257 loss: 3790.0856454770983\n",
            "epoch 6 total_correct_mnsit: 55584 total_correct_mul: 54792 image_loss: 1736.5988669241356 mul_loss: 2207.875217393551 loss: 3944.474084981084\n",
            "epoch 7 total_correct_mnsit: 55885 total_correct_mul: 55113 image_loss: 1616.4939648016007 mul_loss: 2029.6296164548803 loss: 3646.123583443099\n",
            "epoch 8 total_correct_mnsit: 55756 total_correct_mul: 55006 image_loss: 1709.891329986419 mul_loss: 2150.756942176471 loss: 3860.6482725852693\n",
            "epoch 9 total_correct_mnsit: 55793 total_correct_mul: 54968 image_loss: 1691.7861620640142 mul_loss: 2144.9224166926433 loss: 3836.708576396588\n"
          ]
        }
      ]
    },
    {
      "cell_type": "code",
      "metadata": {
        "id": "QhK3vSFfaPI0"
      },
      "source": [
        ""
      ],
      "execution_count": null,
      "outputs": []
    }
  ]
}